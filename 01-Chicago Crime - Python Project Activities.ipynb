{
 "cells": [
  {
   "cell_type": "markdown",
   "id": "d377b611",
   "metadata": {},
   "source": [
    "# Project Introduction and Overview\n",
    "## Objective:\n",
    "Clean, analyse and explore Chicago crime data to identify patterns, trends and insights. \n",
    "\n",
    "## Data\n",
    "The dataset source can be found [here](https://data.cityofchicago.org/Public-Safety/Crimes-2001-to-Present/ijzp-q8t2/about_data) from the City of Chicago data repository. It is also included in the course resources folder for this section. It contains the following columns:\n",
    "- ID: Unique identifier for the record\n",
    "- Case Number: The Chicago Police Department RD Number (Records Division Number), which is unique to the incident\n",
    "- Date: Date when the incident occurred. this is sometimes a best estimate\n",
    "- Block: The partially redacted address where the incident occurred, placing it on the same block as the actual address\n",
    "- IUCR: The Illinois Unifrom Crime Reporting code\n",
    "- Primary Type: The primary description of the IUCR code\n",
    "- Description: The secondary description of the IUCR code, a subcategory of the primary description\n",
    "- Location Description: Description of the location where the incident occurred\n",
    "- Arrest: Indicates whether an arrest was made\n",
    "- Domestic: Indicates whether the incident was domestic-related as defined by the Illinois Domestic Violence Act\n",
    "- Beat: Indicates the beat where the incident occurred. A beat is the smallest police geographic area – each beat has a dedicated police beat car\n",
    "- District: Indicates the police district where the incident occurred\n",
    "- Ward: The ward (City Council district) where the incident occurred\n",
    "- Community: Indicates the community area where the incident occurred\n",
    "- FBI Code: Indicates the crime classification as outlined in the FBI's National Incident-Based Reporting System (NIBRS)\n",
    "- X Coordinates: The x coordinate of the location where the incident occurred (partially redacted)\n",
    "- Y Coordinates: The y coordinate of the location where the incident occurred (partially redacted)\n",
    "- Year: Year the incident occurred\n",
    "- Updated On: Date and time the record was last updated\n",
    "- Latitude: The latitude of the location where the incident occurred (partially redacted)\n",
    "- Longitude: The longitude of the location where the incident occurred (partially redacted)\n",
    "- Location: The location where the incident occurred (partially redacted)\n",
    "\n",
    "## Tasks\n",
    "\n",
    "## Import Libraries and Dataset\n",
    "1. Import required libraries\n",
    "2. Import dataset\n",
    "3. Data familiarisation\n",
    "\n",
    "\n",
    "## Data Cleaning\n",
    "You will ensure that your dataset is ready to explore/analyse by performing the following data cleaning and preparation activities:\n",
    "1. Identify and deal with any missing values\n",
    "2. Drop unneeded columns\n",
    "3. Standardise and clean data types\n",
    "4. Add columns where needed to improve dataset's \n",
    "5. Check for duplicates\n",
    "\n",
    "## Exploratory Data Analysis (EDA)\n",
    "You will use a mixture of graphical visualiastions/graphs and text-based methods to explore the dataset. General steps will include:\n",
    "1. General questions\n",
    "2. Identification of predominant crime types\n",
    "3. Temporal analysis of crime distribution\n",
    "   - Examine how crimes are distributed across months and days to find identify any patterns (if any)\n",
    "4. Analyse arrest and domestic incident trends\n",
    "5. Identify worst areas for crime\n"
   ]
  },
  {
   "cell_type": "markdown",
   "id": "59876274",
   "metadata": {},
   "source": [
    "## Import Libraries and Dataset"
   ]
  },
  {
   "cell_type": "markdown",
   "id": "327da7f3",
   "metadata": {},
   "source": [
    "**Import numpy, pandas, matplotlib and seaborn and set %matplotlib inline**"
   ]
  },
  {
   "cell_type": "code",
   "execution_count": 1,
   "id": "518783b4",
   "metadata": {},
   "outputs": [],
   "source": [
    "import numpy as np\n",
    "import pandas as pd\n",
    "import matplotlib.pyplot as plt\n",
    "import seaborn as sns\n",
    "\n",
    "%matplotlib inline"
   ]
  },
  {
   "cell_type": "markdown",
   "id": "ca0f5f4f",
   "metadata": {},
   "source": [
    "**Read in the 'chicago_crime' csv file into a dataframe called 'df'**"
   ]
  },
  {
   "cell_type": "code",
   "execution_count": 2,
   "id": "a077b577",
   "metadata": {},
   "outputs": [],
   "source": [
    "df = pd.read_csv('chicago_crime.csv')"
   ]
  },
  {
   "cell_type": "markdown",
   "id": "7debec41",
   "metadata": {},
   "source": [
    "**Check the head of the dataframe**"
   ]
  },
  {
   "cell_type": "code",
   "execution_count": 3,
   "id": "3bfd9dc2-d180-44bd-ad02-b9c268d77925",
   "metadata": {},
   "outputs": [
    {
     "data": {
      "text/html": [
       "<div>\n",
       "<style scoped>\n",
       "    .dataframe tbody tr th:only-of-type {\n",
       "        vertical-align: middle;\n",
       "    }\n",
       "\n",
       "    .dataframe tbody tr th {\n",
       "        vertical-align: top;\n",
       "    }\n",
       "\n",
       "    .dataframe thead th {\n",
       "        text-align: right;\n",
       "    }\n",
       "</style>\n",
       "<table border=\"1\" class=\"dataframe\">\n",
       "  <thead>\n",
       "    <tr style=\"text-align: right;\">\n",
       "      <th></th>\n",
       "      <th>ID</th>\n",
       "      <th>Case Number</th>\n",
       "      <th>Date</th>\n",
       "      <th>Block</th>\n",
       "      <th>IUCR</th>\n",
       "      <th>Primary Type</th>\n",
       "      <th>Description</th>\n",
       "      <th>Location Description</th>\n",
       "      <th>Arrest</th>\n",
       "      <th>Domestic</th>\n",
       "      <th>...</th>\n",
       "      <th>Ward</th>\n",
       "      <th>Community Area</th>\n",
       "      <th>FBI Code</th>\n",
       "      <th>X Coordinate</th>\n",
       "      <th>Y Coordinate</th>\n",
       "      <th>Year</th>\n",
       "      <th>Updated On</th>\n",
       "      <th>Latitude</th>\n",
       "      <th>Longitude</th>\n",
       "      <th>Location</th>\n",
       "    </tr>\n",
       "  </thead>\n",
       "  <tbody>\n",
       "    <tr>\n",
       "      <th>0</th>\n",
       "      <td>13229983</td>\n",
       "      <td>JG447140</td>\n",
       "      <td>10/02/2023 00:01</td>\n",
       "      <td>107XX S STATE LINE RD</td>\n",
       "      <td>910</td>\n",
       "      <td>MOTOR VEHICLE THEFT</td>\n",
       "      <td>AUTOMOBILE</td>\n",
       "      <td>STREET</td>\n",
       "      <td>False</td>\n",
       "      <td>False</td>\n",
       "      <td>...</td>\n",
       "      <td>10.0</td>\n",
       "      <td>52</td>\n",
       "      <td>7</td>\n",
       "      <td>1205119.0</td>\n",
       "      <td>1834444.0</td>\n",
       "      <td>2023</td>\n",
       "      <td>10/10/2023 15:42</td>\n",
       "      <td>41.700371</td>\n",
       "      <td>-87.524542</td>\n",
       "      <td>(41.700371121, -87.524541776)</td>\n",
       "    </tr>\n",
       "    <tr>\n",
       "      <th>1</th>\n",
       "      <td>13265845</td>\n",
       "      <td>JG490838</td>\n",
       "      <td>11/04/2023 00:30</td>\n",
       "      <td>106XX S STATE LINE RD</td>\n",
       "      <td>910</td>\n",
       "      <td>MOTOR VEHICLE THEFT</td>\n",
       "      <td>AUTOMOBILE</td>\n",
       "      <td>STREET</td>\n",
       "      <td>False</td>\n",
       "      <td>False</td>\n",
       "      <td>...</td>\n",
       "      <td>10.0</td>\n",
       "      <td>52</td>\n",
       "      <td>7</td>\n",
       "      <td>1205117.0</td>\n",
       "      <td>1834954.0</td>\n",
       "      <td>2023</td>\n",
       "      <td>11/12/2023 15:41</td>\n",
       "      <td>41.701771</td>\n",
       "      <td>-87.524532</td>\n",
       "      <td>(41.701770652, -87.524531562)</td>\n",
       "    </tr>\n",
       "    <tr>\n",
       "      <th>2</th>\n",
       "      <td>13035173</td>\n",
       "      <td>JG214909</td>\n",
       "      <td>04/07/2023 22:00</td>\n",
       "      <td>111XX S STATE LINE RD</td>\n",
       "      <td>498</td>\n",
       "      <td>BATTERY</td>\n",
       "      <td>AGG. DOMESTIC BATTERY - HANDS, FISTS, FEET, SE...</td>\n",
       "      <td>RESIDENCE</td>\n",
       "      <td>False</td>\n",
       "      <td>True</td>\n",
       "      <td>...</td>\n",
       "      <td>10.0</td>\n",
       "      <td>52</td>\n",
       "      <td>04B</td>\n",
       "      <td>1205114.0</td>\n",
       "      <td>1831776.0</td>\n",
       "      <td>2023</td>\n",
       "      <td>08/19/2023 03:40:26 PM</td>\n",
       "      <td>41.693050</td>\n",
       "      <td>-87.524652</td>\n",
       "      <td>(41.693050045, -87.524651806)</td>\n",
       "    </tr>\n",
       "    <tr>\n",
       "      <th>3</th>\n",
       "      <td>12938918</td>\n",
       "      <td>JG100666</td>\n",
       "      <td>01/01/2023 10:30</td>\n",
       "      <td>111XX S STATE LINE RD</td>\n",
       "      <td>560</td>\n",
       "      <td>ASSAULT</td>\n",
       "      <td>SIMPLE</td>\n",
       "      <td>RESIDENCE</td>\n",
       "      <td>False</td>\n",
       "      <td>True</td>\n",
       "      <td>...</td>\n",
       "      <td>10.0</td>\n",
       "      <td>52</td>\n",
       "      <td>08A</td>\n",
       "      <td>1205114.0</td>\n",
       "      <td>1831776.0</td>\n",
       "      <td>2023</td>\n",
       "      <td>08/19/2023 03:40:26 PM</td>\n",
       "      <td>41.693050</td>\n",
       "      <td>-87.524652</td>\n",
       "      <td>(41.693050045, -87.524651806)</td>\n",
       "    </tr>\n",
       "    <tr>\n",
       "      <th>4</th>\n",
       "      <td>13172991</td>\n",
       "      <td>JG379398</td>\n",
       "      <td>08/12/2023 04:35</td>\n",
       "      <td>111XX S STATE LINE RD</td>\n",
       "      <td>486</td>\n",
       "      <td>BATTERY</td>\n",
       "      <td>DOMESTIC BATTERY SIMPLE</td>\n",
       "      <td>RESIDENCE</td>\n",
       "      <td>True</td>\n",
       "      <td>True</td>\n",
       "      <td>...</td>\n",
       "      <td>10.0</td>\n",
       "      <td>52</td>\n",
       "      <td>08B</td>\n",
       "      <td>1205114.0</td>\n",
       "      <td>1831708.0</td>\n",
       "      <td>2023</td>\n",
       "      <td>08/19/2023 03:41:54 PM</td>\n",
       "      <td>41.692863</td>\n",
       "      <td>-87.524654</td>\n",
       "      <td>(41.692863447, -87.524654143)</td>\n",
       "    </tr>\n",
       "  </tbody>\n",
       "</table>\n",
       "<p>5 rows × 22 columns</p>\n",
       "</div>"
      ],
      "text/plain": [
       "         ID Case Number              Date                  Block IUCR  \\\n",
       "0  13229983    JG447140  10/02/2023 00:01  107XX S STATE LINE RD  910   \n",
       "1  13265845    JG490838  11/04/2023 00:30  106XX S STATE LINE RD  910   \n",
       "2  13035173    JG214909  04/07/2023 22:00  111XX S STATE LINE RD  498   \n",
       "3  12938918    JG100666  01/01/2023 10:30  111XX S STATE LINE RD  560   \n",
       "4  13172991    JG379398  08/12/2023 04:35  111XX S STATE LINE RD  486   \n",
       "\n",
       "          Primary Type                                        Description  \\\n",
       "0  MOTOR VEHICLE THEFT                                         AUTOMOBILE   \n",
       "1  MOTOR VEHICLE THEFT                                         AUTOMOBILE   \n",
       "2              BATTERY  AGG. DOMESTIC BATTERY - HANDS, FISTS, FEET, SE...   \n",
       "3              ASSAULT                                             SIMPLE   \n",
       "4              BATTERY                            DOMESTIC BATTERY SIMPLE   \n",
       "\n",
       "  Location Description  Arrest  Domestic  ...  Ward  Community Area  FBI Code  \\\n",
       "0               STREET   False     False  ...  10.0              52         7   \n",
       "1               STREET   False     False  ...  10.0              52         7   \n",
       "2            RESIDENCE   False      True  ...  10.0              52       04B   \n",
       "3            RESIDENCE   False      True  ...  10.0              52       08A   \n",
       "4            RESIDENCE    True      True  ...  10.0              52       08B   \n",
       "\n",
       "   X Coordinate Y Coordinate  Year              Updated On   Latitude  \\\n",
       "0     1205119.0    1834444.0  2023        10/10/2023 15:42  41.700371   \n",
       "1     1205117.0    1834954.0  2023        11/12/2023 15:41  41.701771   \n",
       "2     1205114.0    1831776.0  2023  08/19/2023 03:40:26 PM  41.693050   \n",
       "3     1205114.0    1831776.0  2023  08/19/2023 03:40:26 PM  41.693050   \n",
       "4     1205114.0    1831708.0  2023  08/19/2023 03:41:54 PM  41.692863   \n",
       "\n",
       "   Longitude                       Location  \n",
       "0 -87.524542  (41.700371121, -87.524541776)  \n",
       "1 -87.524532  (41.701770652, -87.524531562)  \n",
       "2 -87.524652  (41.693050045, -87.524651806)  \n",
       "3 -87.524652  (41.693050045, -87.524651806)  \n",
       "4 -87.524654  (41.692863447, -87.524654143)  \n",
       "\n",
       "[5 rows x 22 columns]"
      ]
     },
     "execution_count": 3,
     "metadata": {},
     "output_type": "execute_result"
    }
   ],
   "source": [
    "df.head()"
   ]
  },
  {
   "cell_type": "markdown",
   "id": "b1f20f1e",
   "metadata": {},
   "source": [
    "**Check the info of the dataframe**"
   ]
  },
  {
   "cell_type": "code",
   "execution_count": 4,
   "id": "ea5accc7",
   "metadata": {},
   "outputs": [
    {
     "name": "stdout",
     "output_type": "stream",
     "text": [
      "<class 'pandas.core.frame.DataFrame'>\n",
      "RangeIndex: 250979 entries, 0 to 250978\n",
      "Data columns (total 22 columns):\n",
      " #   Column                Non-Null Count   Dtype  \n",
      "---  ------                --------------   -----  \n",
      " 0   ID                    250979 non-null  int64  \n",
      " 1   Case Number           250979 non-null  object \n",
      " 2   Date                  250979 non-null  object \n",
      " 3   Block                 250979 non-null  object \n",
      " 4   IUCR                  250979 non-null  object \n",
      " 5   Primary Type          250979 non-null  object \n",
      " 6   Description           250979 non-null  object \n",
      " 7   Location Description  249840 non-null  object \n",
      " 8   Arrest                250979 non-null  bool   \n",
      " 9   Domestic              250979 non-null  bool   \n",
      " 10  Beat                  250979 non-null  int64  \n",
      " 11  District              250979 non-null  int64  \n",
      " 12  Ward                  250976 non-null  float64\n",
      " 13  Community Area        250979 non-null  int64  \n",
      " 14  FBI Code              250979 non-null  object \n",
      " 15  X Coordinate          250944 non-null  float64\n",
      " 16  Y Coordinate          250944 non-null  float64\n",
      " 17  Year                  250979 non-null  int64  \n",
      " 18  Updated On            250979 non-null  object \n",
      " 19  Latitude              250944 non-null  float64\n",
      " 20  Longitude             250944 non-null  float64\n",
      " 21  Location              250944 non-null  object \n",
      "dtypes: bool(2), float64(5), int64(5), object(10)\n",
      "memory usage: 38.8+ MB\n"
     ]
    }
   ],
   "source": [
    "df.info()"
   ]
  },
  {
   "cell_type": "markdown",
   "id": "01f3edc7",
   "metadata": {},
   "source": [
    "**Use describe to get a summary of the dataset**"
   ]
  },
  {
   "cell_type": "code",
   "execution_count": 5,
   "id": "db6a6cb3",
   "metadata": {},
   "outputs": [
    {
     "data": {
      "text/html": [
       "<div>\n",
       "<style scoped>\n",
       "    .dataframe tbody tr th:only-of-type {\n",
       "        vertical-align: middle;\n",
       "    }\n",
       "\n",
       "    .dataframe tbody tr th {\n",
       "        vertical-align: top;\n",
       "    }\n",
       "\n",
       "    .dataframe thead th {\n",
       "        text-align: right;\n",
       "    }\n",
       "</style>\n",
       "<table border=\"1\" class=\"dataframe\">\n",
       "  <thead>\n",
       "    <tr style=\"text-align: right;\">\n",
       "      <th></th>\n",
       "      <th>ID</th>\n",
       "      <th>Beat</th>\n",
       "      <th>District</th>\n",
       "      <th>Ward</th>\n",
       "      <th>Community Area</th>\n",
       "      <th>X Coordinate</th>\n",
       "      <th>Y Coordinate</th>\n",
       "      <th>Year</th>\n",
       "      <th>Latitude</th>\n",
       "      <th>Longitude</th>\n",
       "    </tr>\n",
       "  </thead>\n",
       "  <tbody>\n",
       "    <tr>\n",
       "      <th>count</th>\n",
       "      <td>2.509790e+05</td>\n",
       "      <td>250979.000000</td>\n",
       "      <td>250979.000000</td>\n",
       "      <td>250976.000000</td>\n",
       "      <td>250979.000000</td>\n",
       "      <td>2.509440e+05</td>\n",
       "      <td>2.509440e+05</td>\n",
       "      <td>250979.0</td>\n",
       "      <td>250944.000000</td>\n",
       "      <td>250944.000000</td>\n",
       "    </tr>\n",
       "    <tr>\n",
       "      <th>mean</th>\n",
       "      <td>1.309647e+07</td>\n",
       "      <td>1154.902661</td>\n",
       "      <td>11.319692</td>\n",
       "      <td>23.119310</td>\n",
       "      <td>36.284956</td>\n",
       "      <td>1.165344e+06</td>\n",
       "      <td>1.887322e+06</td>\n",
       "      <td>2023.0</td>\n",
       "      <td>41.846392</td>\n",
       "      <td>-87.668729</td>\n",
       "    </tr>\n",
       "    <tr>\n",
       "      <th>std</th>\n",
       "      <td>6.550225e+05</td>\n",
       "      <td>712.004601</td>\n",
       "      <td>7.116028</td>\n",
       "      <td>14.007076</td>\n",
       "      <td>21.561272</td>\n",
       "      <td>1.633514e+04</td>\n",
       "      <td>3.171172e+04</td>\n",
       "      <td>0.0</td>\n",
       "      <td>0.087206</td>\n",
       "      <td>0.059472</td>\n",
       "    </tr>\n",
       "    <tr>\n",
       "      <th>min</th>\n",
       "      <td>2.727900e+04</td>\n",
       "      <td>111.000000</td>\n",
       "      <td>1.000000</td>\n",
       "      <td>1.000000</td>\n",
       "      <td>1.000000</td>\n",
       "      <td>1.091242e+06</td>\n",
       "      <td>1.813897e+06</td>\n",
       "      <td>2023.0</td>\n",
       "      <td>41.644590</td>\n",
       "      <td>-87.939733</td>\n",
       "    </tr>\n",
       "    <tr>\n",
       "      <th>25%</th>\n",
       "      <td>1.303500e+07</td>\n",
       "      <td>533.000000</td>\n",
       "      <td>5.000000</td>\n",
       "      <td>10.000000</td>\n",
       "      <td>22.000000</td>\n",
       "      <td>1.153943e+06</td>\n",
       "      <td>1.859886e+06</td>\n",
       "      <td>2023.0</td>\n",
       "      <td>41.770805</td>\n",
       "      <td>-87.710248</td>\n",
       "    </tr>\n",
       "    <tr>\n",
       "      <th>50%</th>\n",
       "      <td>1.312914e+07</td>\n",
       "      <td>1032.000000</td>\n",
       "      <td>10.000000</td>\n",
       "      <td>23.000000</td>\n",
       "      <td>32.000000</td>\n",
       "      <td>1.167101e+06</td>\n",
       "      <td>1.893519e+06</td>\n",
       "      <td>2023.0</td>\n",
       "      <td>41.863469</td>\n",
       "      <td>-87.662181</td>\n",
       "    </tr>\n",
       "    <tr>\n",
       "      <th>75%</th>\n",
       "      <td>1.322142e+07</td>\n",
       "      <td>1732.000000</td>\n",
       "      <td>17.000000</td>\n",
       "      <td>34.000000</td>\n",
       "      <td>53.000000</td>\n",
       "      <td>1.176796e+06</td>\n",
       "      <td>1.910368e+06</td>\n",
       "      <td>2023.0</td>\n",
       "      <td>41.909895</td>\n",
       "      <td>-87.626773</td>\n",
       "    </tr>\n",
       "    <tr>\n",
       "      <th>max</th>\n",
       "      <td>1.331905e+07</td>\n",
       "      <td>2535.000000</td>\n",
       "      <td>31.000000</td>\n",
       "      <td>50.000000</td>\n",
       "      <td>77.000000</td>\n",
       "      <td>1.205119e+06</td>\n",
       "      <td>1.951506e+06</td>\n",
       "      <td>2023.0</td>\n",
       "      <td>42.022549</td>\n",
       "      <td>-87.524532</td>\n",
       "    </tr>\n",
       "  </tbody>\n",
       "</table>\n",
       "</div>"
      ],
      "text/plain": [
       "                 ID           Beat       District           Ward  \\\n",
       "count  2.509790e+05  250979.000000  250979.000000  250976.000000   \n",
       "mean   1.309647e+07    1154.902661      11.319692      23.119310   \n",
       "std    6.550225e+05     712.004601       7.116028      14.007076   \n",
       "min    2.727900e+04     111.000000       1.000000       1.000000   \n",
       "25%    1.303500e+07     533.000000       5.000000      10.000000   \n",
       "50%    1.312914e+07    1032.000000      10.000000      23.000000   \n",
       "75%    1.322142e+07    1732.000000      17.000000      34.000000   \n",
       "max    1.331905e+07    2535.000000      31.000000      50.000000   \n",
       "\n",
       "       Community Area  X Coordinate  Y Coordinate      Year       Latitude  \\\n",
       "count   250979.000000  2.509440e+05  2.509440e+05  250979.0  250944.000000   \n",
       "mean        36.284956  1.165344e+06  1.887322e+06    2023.0      41.846392   \n",
       "std         21.561272  1.633514e+04  3.171172e+04       0.0       0.087206   \n",
       "min          1.000000  1.091242e+06  1.813897e+06    2023.0      41.644590   \n",
       "25%         22.000000  1.153943e+06  1.859886e+06    2023.0      41.770805   \n",
       "50%         32.000000  1.167101e+06  1.893519e+06    2023.0      41.863469   \n",
       "75%         53.000000  1.176796e+06  1.910368e+06    2023.0      41.909895   \n",
       "max         77.000000  1.205119e+06  1.951506e+06    2023.0      42.022549   \n",
       "\n",
       "           Longitude  \n",
       "count  250944.000000  \n",
       "mean      -87.668729  \n",
       "std         0.059472  \n",
       "min       -87.939733  \n",
       "25%       -87.710248  \n",
       "50%       -87.662181  \n",
       "75%       -87.626773  \n",
       "max       -87.524532  "
      ]
     },
     "execution_count": 5,
     "metadata": {},
     "output_type": "execute_result"
    }
   ],
   "source": [
    "df.describe()"
   ]
  },
  {
   "cell_type": "markdown",
   "id": "ea3eb9c2",
   "metadata": {},
   "source": [
    "**Check the dtypes of our dataframe**"
   ]
  },
  {
   "cell_type": "code",
   "execution_count": 6,
   "id": "72b33720",
   "metadata": {},
   "outputs": [
    {
     "data": {
      "text/plain": [
       "ID                        int64\n",
       "Case Number              object\n",
       "Date                     object\n",
       "Block                    object\n",
       "IUCR                     object\n",
       "Primary Type             object\n",
       "Description              object\n",
       "Location Description     object\n",
       "Arrest                     bool\n",
       "Domestic                   bool\n",
       "Beat                      int64\n",
       "District                  int64\n",
       "Ward                    float64\n",
       "Community Area            int64\n",
       "FBI Code                 object\n",
       "X Coordinate            float64\n",
       "Y Coordinate            float64\n",
       "Year                      int64\n",
       "Updated On               object\n",
       "Latitude                float64\n",
       "Longitude               float64\n",
       "Location                 object\n",
       "dtype: object"
      ]
     },
     "execution_count": 6,
     "metadata": {},
     "output_type": "execute_result"
    }
   ],
   "source": [
    "df.dtypes"
   ]
  },
  {
   "cell_type": "markdown",
   "id": "4202ba25",
   "metadata": {},
   "source": [
    "## Data Cleaning and Preparation"
   ]
  },
  {
   "cell_type": "markdown",
   "id": "0181d239",
   "metadata": {},
   "source": [
    "### Handle Missing Values"
   ]
  },
  {
   "cell_type": "markdown",
   "id": "b25f584d",
   "metadata": {},
   "source": [
    "**Combine isna() and sum() to look at how many null values we have in our dataset**"
   ]
  },
  {
   "cell_type": "code",
   "execution_count": 7,
   "id": "0a43e786",
   "metadata": {},
   "outputs": [
    {
     "data": {
      "text/plain": [
       "ID                         0\n",
       "Case Number                0\n",
       "Date                       0\n",
       "Block                      0\n",
       "IUCR                       0\n",
       "Primary Type               0\n",
       "Description                0\n",
       "Location Description    1139\n",
       "Arrest                     0\n",
       "Domestic                   0\n",
       "Beat                       0\n",
       "District                   0\n",
       "Ward                       3\n",
       "Community Area             0\n",
       "FBI Code                   0\n",
       "X Coordinate              35\n",
       "Y Coordinate              35\n",
       "Year                       0\n",
       "Updated On                 0\n",
       "Latitude                  35\n",
       "Longitude                 35\n",
       "Location                  35\n",
       "dtype: int64"
      ]
     },
     "execution_count": 7,
     "metadata": {},
     "output_type": "execute_result"
    }
   ],
   "source": [
    "df.isna().sum()"
   ]
  },
  {
   "cell_type": "markdown",
   "id": "19f9de2b",
   "metadata": {},
   "source": [
    "**Drop missing / na rows from our dataset**\n",
    "\n",
    "As the missing values here are categorical we can't impute them with mean or median etc. As they make up such a small percent of our total dataset, in this case we will drop them."
   ]
  },
  {
   "cell_type": "code",
   "execution_count": 8,
   "id": "7244d4d0",
   "metadata": {},
   "outputs": [],
   "source": [
    "df.dropna(inplace=True)"
   ]
  },
  {
   "cell_type": "markdown",
   "id": "06189066",
   "metadata": {},
   "source": [
    "**Use isna() and sum() to verify no null values**"
   ]
  },
  {
   "cell_type": "code",
   "execution_count": 9,
   "id": "f7638fc7",
   "metadata": {},
   "outputs": [
    {
     "data": {
      "text/plain": [
       "ID                      0\n",
       "Case Number             0\n",
       "Date                    0\n",
       "Block                   0\n",
       "IUCR                    0\n",
       "Primary Type            0\n",
       "Description             0\n",
       "Location Description    0\n",
       "Arrest                  0\n",
       "Domestic                0\n",
       "Beat                    0\n",
       "District                0\n",
       "Ward                    0\n",
       "Community Area          0\n",
       "FBI Code                0\n",
       "X Coordinate            0\n",
       "Y Coordinate            0\n",
       "Year                    0\n",
       "Updated On              0\n",
       "Latitude                0\n",
       "Longitude               0\n",
       "Location                0\n",
       "dtype: int64"
      ]
     },
     "execution_count": 9,
     "metadata": {},
     "output_type": "execute_result"
    }
   ],
   "source": [
    "df.isna().sum()"
   ]
  },
  {
   "cell_type": "markdown",
   "id": "56fa0a89",
   "metadata": {},
   "source": [
    "### Standardise and Clean Data Types"
   ]
  },
  {
   "cell_type": "markdown",
   "id": "365b4166",
   "metadata": {},
   "source": [
    "**Change Date column to datetime dtype**"
   ]
  },
  {
   "cell_type": "code",
   "execution_count": 10,
   "id": "028294d3",
   "metadata": {},
   "outputs": [],
   "source": [
    "df['Date'] = pd.to_datetime(df['Date'])"
   ]
  },
  {
   "cell_type": "code",
   "execution_count": 11,
   "id": "0945d091",
   "metadata": {},
   "outputs": [
    {
     "data": {
      "text/plain": [
       "0        2023-10-02 00:01:00\n",
       "1        2023-11-04 00:30:00\n",
       "2        2023-04-07 22:00:00\n",
       "3        2023-01-01 10:30:00\n",
       "4        2023-08-12 04:35:00\n",
       "                 ...        \n",
       "250939   2023-03-07 05:30:00\n",
       "250940   2023-10-10 20:30:00\n",
       "250941   2023-11-01 09:50:00\n",
       "250942   2023-01-04 10:25:00\n",
       "250943   2023-03-29 05:30:00\n",
       "Name: Date, Length: 249802, dtype: datetime64[ns]"
      ]
     },
     "execution_count": 11,
     "metadata": {},
     "output_type": "execute_result"
    }
   ],
   "source": [
    "df['Date']"
   ]
  },
  {
   "cell_type": "markdown",
   "id": "28cf9a6b",
   "metadata": {},
   "source": [
    "### Add Columns"
   ]
  },
  {
   "cell_type": "markdown",
   "id": "f579d9fa",
   "metadata": {},
   "source": [
    "**Create a new 'Month' column which extracts the month from the 'Date' column**"
   ]
  },
  {
   "cell_type": "code",
   "execution_count": 12,
   "id": "9fab6a10",
   "metadata": {},
   "outputs": [],
   "source": [
    "df['Month'] = df['Date'].dt.month"
   ]
  },
  {
   "cell_type": "code",
   "execution_count": 13,
   "id": "0ff835d5",
   "metadata": {},
   "outputs": [
    {
     "data": {
      "text/html": [
       "<div>\n",
       "<style scoped>\n",
       "    .dataframe tbody tr th:only-of-type {\n",
       "        vertical-align: middle;\n",
       "    }\n",
       "\n",
       "    .dataframe tbody tr th {\n",
       "        vertical-align: top;\n",
       "    }\n",
       "\n",
       "    .dataframe thead th {\n",
       "        text-align: right;\n",
       "    }\n",
       "</style>\n",
       "<table border=\"1\" class=\"dataframe\">\n",
       "  <thead>\n",
       "    <tr style=\"text-align: right;\">\n",
       "      <th></th>\n",
       "      <th>Date</th>\n",
       "      <th>Month</th>\n",
       "    </tr>\n",
       "  </thead>\n",
       "  <tbody>\n",
       "    <tr>\n",
       "      <th>0</th>\n",
       "      <td>2023-10-02 00:01:00</td>\n",
       "      <td>10</td>\n",
       "    </tr>\n",
       "    <tr>\n",
       "      <th>1</th>\n",
       "      <td>2023-11-04 00:30:00</td>\n",
       "      <td>11</td>\n",
       "    </tr>\n",
       "    <tr>\n",
       "      <th>2</th>\n",
       "      <td>2023-04-07 22:00:00</td>\n",
       "      <td>4</td>\n",
       "    </tr>\n",
       "    <tr>\n",
       "      <th>3</th>\n",
       "      <td>2023-01-01 10:30:00</td>\n",
       "      <td>1</td>\n",
       "    </tr>\n",
       "    <tr>\n",
       "      <th>4</th>\n",
       "      <td>2023-08-12 04:35:00</td>\n",
       "      <td>8</td>\n",
       "    </tr>\n",
       "  </tbody>\n",
       "</table>\n",
       "</div>"
      ],
      "text/plain": [
       "                 Date  Month\n",
       "0 2023-10-02 00:01:00     10\n",
       "1 2023-11-04 00:30:00     11\n",
       "2 2023-04-07 22:00:00      4\n",
       "3 2023-01-01 10:30:00      1\n",
       "4 2023-08-12 04:35:00      8"
      ]
     },
     "execution_count": 13,
     "metadata": {},
     "output_type": "execute_result"
    }
   ],
   "source": [
    "df[['Date','Month']].head()"
   ]
  },
  {
   "cell_type": "markdown",
   "id": "fa1e4f5e",
   "metadata": {},
   "source": [
    "**Create a new 'Hour' column which extracts the hour from the 'Date' column**"
   ]
  },
  {
   "cell_type": "code",
   "execution_count": 14,
   "id": "1f2aed74",
   "metadata": {},
   "outputs": [],
   "source": [
    "df['Hour'] = df['Date'].dt.hour"
   ]
  },
  {
   "cell_type": "code",
   "execution_count": 15,
   "id": "2df17a21",
   "metadata": {},
   "outputs": [
    {
     "data": {
      "text/html": [
       "<div>\n",
       "<style scoped>\n",
       "    .dataframe tbody tr th:only-of-type {\n",
       "        vertical-align: middle;\n",
       "    }\n",
       "\n",
       "    .dataframe tbody tr th {\n",
       "        vertical-align: top;\n",
       "    }\n",
       "\n",
       "    .dataframe thead th {\n",
       "        text-align: right;\n",
       "    }\n",
       "</style>\n",
       "<table border=\"1\" class=\"dataframe\">\n",
       "  <thead>\n",
       "    <tr style=\"text-align: right;\">\n",
       "      <th></th>\n",
       "      <th>Date</th>\n",
       "      <th>Hour</th>\n",
       "    </tr>\n",
       "  </thead>\n",
       "  <tbody>\n",
       "    <tr>\n",
       "      <th>0</th>\n",
       "      <td>2023-10-02 00:01:00</td>\n",
       "      <td>0</td>\n",
       "    </tr>\n",
       "    <tr>\n",
       "      <th>1</th>\n",
       "      <td>2023-11-04 00:30:00</td>\n",
       "      <td>0</td>\n",
       "    </tr>\n",
       "    <tr>\n",
       "      <th>2</th>\n",
       "      <td>2023-04-07 22:00:00</td>\n",
       "      <td>22</td>\n",
       "    </tr>\n",
       "    <tr>\n",
       "      <th>3</th>\n",
       "      <td>2023-01-01 10:30:00</td>\n",
       "      <td>10</td>\n",
       "    </tr>\n",
       "    <tr>\n",
       "      <th>4</th>\n",
       "      <td>2023-08-12 04:35:00</td>\n",
       "      <td>4</td>\n",
       "    </tr>\n",
       "  </tbody>\n",
       "</table>\n",
       "</div>"
      ],
      "text/plain": [
       "                 Date  Hour\n",
       "0 2023-10-02 00:01:00     0\n",
       "1 2023-11-04 00:30:00     0\n",
       "2 2023-04-07 22:00:00    22\n",
       "3 2023-01-01 10:30:00    10\n",
       "4 2023-08-12 04:35:00     4"
      ]
     },
     "execution_count": 15,
     "metadata": {},
     "output_type": "execute_result"
    }
   ],
   "source": [
    "df[['Date','Hour']].head()"
   ]
  },
  {
   "cell_type": "markdown",
   "id": "df7774fe",
   "metadata": {},
   "source": [
    "**Create a new 'Day of Week' column which extracts the day of the week from the 'Date' column**"
   ]
  },
  {
   "cell_type": "code",
   "execution_count": 16,
   "id": "260cc3a0",
   "metadata": {},
   "outputs": [],
   "source": [
    "df['Day of Week'] = df['Date'].dt.dayofweek"
   ]
  },
  {
   "cell_type": "code",
   "execution_count": 17,
   "id": "858acd37",
   "metadata": {},
   "outputs": [
    {
     "data": {
      "text/html": [
       "<div>\n",
       "<style scoped>\n",
       "    .dataframe tbody tr th:only-of-type {\n",
       "        vertical-align: middle;\n",
       "    }\n",
       "\n",
       "    .dataframe tbody tr th {\n",
       "        vertical-align: top;\n",
       "    }\n",
       "\n",
       "    .dataframe thead th {\n",
       "        text-align: right;\n",
       "    }\n",
       "</style>\n",
       "<table border=\"1\" class=\"dataframe\">\n",
       "  <thead>\n",
       "    <tr style=\"text-align: right;\">\n",
       "      <th></th>\n",
       "      <th>Date</th>\n",
       "      <th>Day of Week</th>\n",
       "    </tr>\n",
       "  </thead>\n",
       "  <tbody>\n",
       "    <tr>\n",
       "      <th>0</th>\n",
       "      <td>2023-10-02 00:01:00</td>\n",
       "      <td>0</td>\n",
       "    </tr>\n",
       "    <tr>\n",
       "      <th>1</th>\n",
       "      <td>2023-11-04 00:30:00</td>\n",
       "      <td>5</td>\n",
       "    </tr>\n",
       "    <tr>\n",
       "      <th>2</th>\n",
       "      <td>2023-04-07 22:00:00</td>\n",
       "      <td>4</td>\n",
       "    </tr>\n",
       "    <tr>\n",
       "      <th>3</th>\n",
       "      <td>2023-01-01 10:30:00</td>\n",
       "      <td>6</td>\n",
       "    </tr>\n",
       "    <tr>\n",
       "      <th>4</th>\n",
       "      <td>2023-08-12 04:35:00</td>\n",
       "      <td>5</td>\n",
       "    </tr>\n",
       "  </tbody>\n",
       "</table>\n",
       "</div>"
      ],
      "text/plain": [
       "                 Date  Day of Week\n",
       "0 2023-10-02 00:01:00            0\n",
       "1 2023-11-04 00:30:00            5\n",
       "2 2023-04-07 22:00:00            4\n",
       "3 2023-01-01 10:30:00            6\n",
       "4 2023-08-12 04:35:00            5"
      ]
     },
     "execution_count": 17,
     "metadata": {},
     "output_type": "execute_result"
    }
   ],
   "source": [
    "df[['Date','Day of Week']].head()"
   ]
  },
  {
   "cell_type": "markdown",
   "id": "20117081",
   "metadata": {},
   "source": [
    "**Use the provided dictionary to *map* the day of week number to its name**"
   ]
  },
  {
   "cell_type": "code",
   "execution_count": 18,
   "id": "739ef074",
   "metadata": {},
   "outputs": [],
   "source": [
    "# Create the dictionary\n",
    "day_of_week_dict = {\n",
    "    0: 'Monday',\n",
    "    1: 'Tuesday',\n",
    "    2: 'Wednesday',\n",
    "    3: 'Thursday',\n",
    "    4: 'Friday',\n",
    "    5: 'Saturday',\n",
    "    6: 'Sunday'\n",
    "}\n",
    "\n",
    "# Map the dictionary to the 'Day of Week' column\n",
    "df['Day of Week'] = df['Day of Week'].map(day_of_week_dict)"
   ]
  },
  {
   "cell_type": "code",
   "execution_count": 19,
   "id": "7c05ad0c",
   "metadata": {},
   "outputs": [
    {
     "data": {
      "text/html": [
       "<div>\n",
       "<style scoped>\n",
       "    .dataframe tbody tr th:only-of-type {\n",
       "        vertical-align: middle;\n",
       "    }\n",
       "\n",
       "    .dataframe tbody tr th {\n",
       "        vertical-align: top;\n",
       "    }\n",
       "\n",
       "    .dataframe thead th {\n",
       "        text-align: right;\n",
       "    }\n",
       "</style>\n",
       "<table border=\"1\" class=\"dataframe\">\n",
       "  <thead>\n",
       "    <tr style=\"text-align: right;\">\n",
       "      <th></th>\n",
       "      <th>Date</th>\n",
       "      <th>Day of Week</th>\n",
       "    </tr>\n",
       "  </thead>\n",
       "  <tbody>\n",
       "    <tr>\n",
       "      <th>0</th>\n",
       "      <td>2023-10-02 00:01:00</td>\n",
       "      <td>Monday</td>\n",
       "    </tr>\n",
       "    <tr>\n",
       "      <th>1</th>\n",
       "      <td>2023-11-04 00:30:00</td>\n",
       "      <td>Saturday</td>\n",
       "    </tr>\n",
       "    <tr>\n",
       "      <th>2</th>\n",
       "      <td>2023-04-07 22:00:00</td>\n",
       "      <td>Friday</td>\n",
       "    </tr>\n",
       "    <tr>\n",
       "      <th>3</th>\n",
       "      <td>2023-01-01 10:30:00</td>\n",
       "      <td>Sunday</td>\n",
       "    </tr>\n",
       "    <tr>\n",
       "      <th>4</th>\n",
       "      <td>2023-08-12 04:35:00</td>\n",
       "      <td>Saturday</td>\n",
       "    </tr>\n",
       "  </tbody>\n",
       "</table>\n",
       "</div>"
      ],
      "text/plain": [
       "                 Date Day of Week\n",
       "0 2023-10-02 00:01:00      Monday\n",
       "1 2023-11-04 00:30:00    Saturday\n",
       "2 2023-04-07 22:00:00      Friday\n",
       "3 2023-01-01 10:30:00      Sunday\n",
       "4 2023-08-12 04:35:00    Saturday"
      ]
     },
     "execution_count": 19,
     "metadata": {},
     "output_type": "execute_result"
    }
   ],
   "source": [
    "df[['Date','Day of Week']].head()"
   ]
  },
  {
   "cell_type": "markdown",
   "id": "31bd7e66",
   "metadata": {},
   "source": [
    "### Drop Unneeded Columns"
   ]
  },
  {
   "cell_type": "markdown",
   "id": "cb915e35",
   "metadata": {},
   "source": [
    "**Drop 'Updated On' column**"
   ]
  },
  {
   "cell_type": "code",
   "execution_count": 20,
   "id": "dd2e34cf",
   "metadata": {},
   "outputs": [],
   "source": [
    "df.drop('Updated On', axis=1,inplace=True)"
   ]
  },
  {
   "cell_type": "markdown",
   "id": "8df570d0",
   "metadata": {},
   "source": [
    "### Check for Duplicates"
   ]
  },
  {
   "cell_type": "markdown",
   "id": "c25858f6",
   "metadata": {},
   "source": [
    "**Check for duplicates by indexing the dataframe using the .duplicated() method**"
   ]
  },
  {
   "cell_type": "code",
   "execution_count": 21,
   "id": "b4dce34e",
   "metadata": {},
   "outputs": [
    {
     "data": {
      "text/html": [
       "<div>\n",
       "<style scoped>\n",
       "    .dataframe tbody tr th:only-of-type {\n",
       "        vertical-align: middle;\n",
       "    }\n",
       "\n",
       "    .dataframe tbody tr th {\n",
       "        vertical-align: top;\n",
       "    }\n",
       "\n",
       "    .dataframe thead th {\n",
       "        text-align: right;\n",
       "    }\n",
       "</style>\n",
       "<table border=\"1\" class=\"dataframe\">\n",
       "  <thead>\n",
       "    <tr style=\"text-align: right;\">\n",
       "      <th></th>\n",
       "      <th>ID</th>\n",
       "      <th>Case Number</th>\n",
       "      <th>Date</th>\n",
       "      <th>Block</th>\n",
       "      <th>IUCR</th>\n",
       "      <th>Primary Type</th>\n",
       "      <th>Description</th>\n",
       "      <th>Location Description</th>\n",
       "      <th>Arrest</th>\n",
       "      <th>Domestic</th>\n",
       "      <th>...</th>\n",
       "      <th>FBI Code</th>\n",
       "      <th>X Coordinate</th>\n",
       "      <th>Y Coordinate</th>\n",
       "      <th>Year</th>\n",
       "      <th>Latitude</th>\n",
       "      <th>Longitude</th>\n",
       "      <th>Location</th>\n",
       "      <th>Month</th>\n",
       "      <th>Hour</th>\n",
       "      <th>Day of Week</th>\n",
       "    </tr>\n",
       "  </thead>\n",
       "  <tbody>\n",
       "  </tbody>\n",
       "</table>\n",
       "<p>0 rows × 24 columns</p>\n",
       "</div>"
      ],
      "text/plain": [
       "Empty DataFrame\n",
       "Columns: [ID, Case Number, Date, Block, IUCR, Primary Type, Description, Location Description, Arrest, Domestic, Beat, District, Ward, Community Area, FBI Code, X Coordinate, Y Coordinate, Year, Latitude, Longitude, Location, Month, Hour, Day of Week]\n",
       "Index: []\n",
       "\n",
       "[0 rows x 24 columns]"
      ]
     },
     "execution_count": 21,
     "metadata": {},
     "output_type": "execute_result"
    }
   ],
   "source": [
    "df[df.duplicated()]"
   ]
  },
  {
   "cell_type": "markdown",
   "id": "7d7f30c0",
   "metadata": {},
   "source": [
    "## Exploratory Data Analysis\n"
   ]
  },
  {
   "cell_type": "markdown",
   "id": "123311c8",
   "metadata": {},
   "source": [
    "### Initial Questions"
   ]
  },
  {
   "cell_type": "markdown",
   "id": "50c5b3fb",
   "metadata": {},
   "source": [
    "**Which 5 districts had the most crime?**"
   ]
  },
  {
   "cell_type": "code",
   "execution_count": 22,
   "id": "86bdce33",
   "metadata": {},
   "outputs": [
    {
     "data": {
      "text/plain": [
       "District\n",
       "8     16215\n",
       "12    15127\n",
       "6     15079\n",
       "4     14331\n",
       "11    13727\n",
       "Name: count, dtype: int64"
      ]
     },
     "execution_count": 22,
     "metadata": {},
     "output_type": "execute_result"
    }
   ],
   "source": [
    "df['District'].value_counts().head(5)"
   ]
  },
  {
   "cell_type": "markdown",
   "id": "92a3a54e",
   "metadata": {},
   "source": [
    "**Which 3 months have had the most crime?**"
   ]
  },
  {
   "cell_type": "code",
   "execution_count": 23,
   "id": "28070d75",
   "metadata": {},
   "outputs": [
    {
     "data": {
      "text/plain": [
       "Month\n",
       "8     23869\n",
       "7     23731\n",
       "10    22638\n",
       "Name: count, dtype: int64"
      ]
     },
     "execution_count": 23,
     "metadata": {},
     "output_type": "execute_result"
    }
   ],
   "source": [
    "df['Month'].value_counts().head(3)"
   ]
  },
  {
   "cell_type": "markdown",
   "id": "b3042879",
   "metadata": {},
   "source": [
    "**How many unique locations have there been? (*Block* column)**"
   ]
  },
  {
   "cell_type": "code",
   "execution_count": 24,
   "id": "d93f68fe",
   "metadata": {},
   "outputs": [
    {
     "data": {
      "text/plain": [
       "28375"
      ]
     },
     "execution_count": 24,
     "metadata": {},
     "output_type": "execute_result"
    }
   ],
   "source": [
    "df['Block'].nunique()"
   ]
  },
  {
   "cell_type": "markdown",
   "id": "52a4f82f",
   "metadata": {},
   "source": [
    "**How does this compare to the total number of reported crimes?**"
   ]
  },
  {
   "cell_type": "code",
   "execution_count": 25,
   "id": "07322d6d",
   "metadata": {},
   "outputs": [
    {
     "data": {
      "text/plain": [
       "249802"
      ]
     },
     "execution_count": 25,
     "metadata": {},
     "output_type": "execute_result"
    }
   ],
   "source": [
    "df['Block'].count()"
   ]
  },
  {
   "cell_type": "code",
   "execution_count": 26,
   "id": "a30861a5",
   "metadata": {},
   "outputs": [
    {
     "data": {
      "text/plain": [
       "249802"
      ]
     },
     "execution_count": 26,
     "metadata": {},
     "output_type": "execute_result"
    }
   ],
   "source": [
    "len(df)"
   ]
  },
  {
   "cell_type": "markdown",
   "id": "432e667c",
   "metadata": {},
   "source": [
    "### Predominant Crime Types"
   ]
  },
  {
   "cell_type": "markdown",
   "id": "65b4df0b",
   "metadata": {},
   "source": [
    "**What are the top 5 types of crime in Chicago?**"
   ]
  },
  {
   "cell_type": "code",
   "execution_count": 27,
   "id": "e983b1c3-dcbd-423d-9235-61a756e75e84",
   "metadata": {},
   "outputs": [
    {
     "data": {
      "text/plain": [
       "Primary Type\n",
       "THEFT                  54834\n",
       "BATTERY                42614\n",
       "CRIMINAL DAMAGE        28960\n",
       "MOTOR VEHICLE THEFT    28219\n",
       "ASSAULT                21778\n",
       "Name: count, dtype: int64"
      ]
     },
     "execution_count": 27,
     "metadata": {},
     "output_type": "execute_result"
    }
   ],
   "source": [
    "df['Primary Type'].value_counts().head(5)"
   ]
  },
  {
   "cell_type": "markdown",
   "id": "bd2c9319",
   "metadata": {},
   "source": [
    "**Use a countplot to visualise this**"
   ]
  },
  {
   "cell_type": "code",
   "execution_count": 30,
   "id": "dbf7e13a",
   "metadata": {},
   "outputs": [
    {
     "data": {
      "text/plain": [
       "Text(0.5, 1.0, 'Top 5 Crime Types')"
      ]
     },
     "execution_count": 30,
     "metadata": {},
     "output_type": "execute_result"
    },
    {
     "data": {
      "image/png": "[encoded data removed]",
      "text/plain": [
       "<Figure size 640x480 with 1 Axes>"
      ]
     },
     "metadata": {},
     "output_type": "display_data"
    }
   ],
   "source": [
    "sns.countplot(\n",
    "    y='Primary Type', \n",
    "    data=df, \n",
    "    order=df['Primary Type'].value_counts().head(5).index, \n",
    "    hue='Primary Type',  \n",
    "    palette='viridis',\n",
    "    legend=False  # hide duplicate legend\n",
    ")\n",
    "plt.xlabel('Count')\n",
    "plt.ylabel('Primary Type')\n",
    "plt.title('Top 5 Crime Types')"
   ]
  },
  {
   "cell_type": "markdown",
   "id": "a375e40d",
   "metadata": {},
   "source": [
    "### Temporal Analysis of Crime Distribution"
   ]
  },
  {
   "cell_type": "markdown",
   "id": "f42e4ae7",
   "metadata": {},
   "source": [
    "**Create a groupby object called 'countByMonth'. Group the dataframe by the month column and use the size() method to aggregate the data.**"
   ]
  },
  {
   "cell_type": "code",
   "execution_count": 31,
   "id": "f6ba1938",
   "metadata": {},
   "outputs": [
    {
     "data": {
      "text/html": [
       "<div>\n",
       "<style scoped>\n",
       "    .dataframe tbody tr th:only-of-type {\n",
       "        vertical-align: middle;\n",
       "    }\n",
       "\n",
       "    .dataframe tbody tr th {\n",
       "        vertical-align: top;\n",
       "    }\n",
       "\n",
       "    .dataframe thead th {\n",
       "        text-align: right;\n",
       "    }\n",
       "</style>\n",
       "<table border=\"1\" class=\"dataframe\">\n",
       "  <thead>\n",
       "    <tr style=\"text-align: right;\">\n",
       "      <th></th>\n",
       "      <th>Month</th>\n",
       "      <th>Crime Count</th>\n",
       "    </tr>\n",
       "  </thead>\n",
       "  <tbody>\n",
       "    <tr>\n",
       "      <th>0</th>\n",
       "      <td>1</td>\n",
       "      <td>20920</td>\n",
       "    </tr>\n",
       "    <tr>\n",
       "      <th>1</th>\n",
       "      <td>2</td>\n",
       "      <td>18265</td>\n",
       "    </tr>\n",
       "    <tr>\n",
       "      <th>2</th>\n",
       "      <td>3</td>\n",
       "      <td>20543</td>\n",
       "    </tr>\n",
       "    <tr>\n",
       "      <th>3</th>\n",
       "      <td>4</td>\n",
       "      <td>20531</td>\n",
       "    </tr>\n",
       "    <tr>\n",
       "      <th>4</th>\n",
       "      <td>5</td>\n",
       "      <td>22009</td>\n",
       "    </tr>\n",
       "  </tbody>\n",
       "</table>\n",
       "</div>"
      ],
      "text/plain": [
       "   Month  Crime Count\n",
       "0      1        20920\n",
       "1      2        18265\n",
       "2      3        20543\n",
       "3      4        20531\n",
       "4      5        22009"
      ]
     },
     "execution_count": 31,
     "metadata": {},
     "output_type": "execute_result"
    }
   ],
   "source": [
    "countByMonth = df.groupby('Month').size().reset_index(name='Crime Count')\n",
    "countByMonth.head()"
   ]
  },
  {
   "cell_type": "markdown",
   "id": "020fe59b",
   "metadata": {},
   "source": [
    "**Create a linechart to show crime by month**"
   ]
  },
  {
   "cell_type": "code",
   "execution_count": 32,
   "id": "0ace1cb5",
   "metadata": {},
   "outputs": [
    {
     "data": {
      "text/plain": [
       "Text(0.5, 1.0, 'Count of Crimes by Month')"
      ]
     },
     "execution_count": 32,
     "metadata": {},
     "output_type": "execute_result"
    },
    {
     "data": {
      "image/png": "[encoded data removed]",
      "text/plain": [
       "<Figure size 640x480 with 1 Axes>"
      ]
     },
     "metadata": {},
     "output_type": "display_data"
    }
   ],
   "source": [
    "sns.lineplot(x='Month', y='Crime Count', data=countByMonth, marker='o')\n",
    "plt.title(\"Count of Crimes by Month\")"
   ]
  },
  {
   "cell_type": "markdown",
   "id": "7bb0e680",
   "metadata": {},
   "source": [
    "**Create a count plot to show crime by day, broken down / split by the domestic column. Use the provided list to set the correct order for days.**"
   ]
  },
  {
   "cell_type": "code",
   "execution_count": 33,
   "id": "1a68fb82",
   "metadata": {},
   "outputs": [
    {
     "data": {
      "text/plain": [
       "Text(0.5, 1.0, 'Count of Crimes by Day of Week')"
      ]
     },
     "execution_count": 33,
     "metadata": {},
     "output_type": "execute_result"
    },
    {
     "data": {
      "image/png": "[encoded data removed]",
      "text/plain": [
       "<Figure size 640x480 with 1 Axes>"
      ]
     },
     "metadata": {},
     "output_type": "display_data"
    }
   ],
   "source": [
    "day_order = ['Monday', 'Tuesday', 'Wednesday', 'Thursday', 'Friday', 'Saturday', 'Sunday']\n",
    "sns.countplot(x='Day of Week', data = df, order=day_order, hue=df['Domestic'].astype(str))\n",
    "plt.title(\"Count of Crimes by Day of Week\")\n"
   ]
  },
  {
   "cell_type": "markdown",
   "id": "b059b5a1",
   "metadata": {},
   "source": [
    "**Create a histplot to show the most common hour for crime. Set bins to be equal to 24 and xticklabels to also be true.**"
   ]
  },
  {
   "cell_type": "code",
   "execution_count": 34,
   "id": "a50b4a21",
   "metadata": {},
   "outputs": [
    {
     "data": {
      "text/plain": [
       "Text(0.5, 1.0, 'Number of Crimes by Hour')"
      ]
     },
     "execution_count": 34,
     "metadata": {},
     "output_type": "execute_result"
    },
    {
     "data": {
      "image/png": "[encoded data removed]",
      "text/plain": [
       "<Figure size 640x480 with 1 Axes>"
      ]
     },
     "metadata": {},
     "output_type": "display_data"
    }
   ],
   "source": [
    "sns.histplot(df, x='Hour', bins=24)\n",
    "plt.title(\"Number of Crimes by Hour\")"
   ]
  },
  {
   "cell_type": "markdown",
   "id": "3d206485",
   "metadata": {},
   "source": [
    "### Analyse Arrest and Domestic Incidents"
   ]
  },
  {
   "cell_type": "markdown",
   "id": "f5aaae7f",
   "metadata": {},
   "source": [
    "**Create a count plot of arrests vs non-arrests**"
   ]
  },
  {
   "cell_type": "code",
   "execution_count": 35,
   "id": "eead522b",
   "metadata": {},
   "outputs": [
    {
     "name": "stderr",
     "output_type": "stream",
     "text": [
      "C:\\Users\\91962\\AppData\\Local\\Temp\\ipykernel_14864\\3972664809.py:1: FutureWarning: \n",
      "\n",
      "Passing `palette` without assigning `hue` is deprecated and will be removed in v0.14.0. Assign the `x` variable to `hue` and set `legend=False` for the same effect.\n",
      "\n",
      "  sns.countplot(df, x='Arrest', palette=\"viridis\")\n"
     ]
    },
    {
     "data": {
      "text/plain": [
       "<Axes: xlabel='Arrest', ylabel='count'>"
      ]
     },
     "execution_count": 35,
     "metadata": {},
     "output_type": "execute_result"
    },
    {
     "data": {
      "image/png": "[encoded data removed]",
      "text/plain": [
       "<Figure size 640x480 with 1 Axes>"
      ]
     },
     "metadata": {},
     "output_type": "display_data"
    }
   ],
   "source": [
    "sns.countplot(df, x='Arrest', palette=\"viridis\")"
   ]
  },
  {
   "cell_type": "markdown",
   "id": "c3917dee",
   "metadata": {},
   "source": [
    "**Create a count plot of domestic vs non-domestic indidents**"
   ]
  },
  {
   "cell_type": "code",
   "execution_count": 37,
   "id": "e05127f4",
   "metadata": {},
   "outputs": [
    {
     "data": {
      "text/plain": [
       "<Axes: xlabel='Domestic', ylabel='count'>"
      ]
     },
     "execution_count": 37,
     "metadata": {},
     "output_type": "execute_result"
    },
    {
     "data": {
      "image/png": "[encoded data removed]",
      "text/plain": [
       "<Figure size 640x480 with 1 Axes>"
      ]
     },
     "metadata": {},
     "output_type": "display_data"
    }
   ],
   "source": [
    "sns.countplot(data=df, x='Domestic', hue='Domestic', palette=\"viridis\", legend=False)"
   ]
  },
  {
   "cell_type": "markdown",
   "id": "536e33cb",
   "metadata": {},
   "source": [
    "**Create a count plot to show the number of arrests for each type of crime.**"
   ]
  },
  {
   "cell_type": "code",
   "execution_count": 38,
   "id": "167a9f60",
   "metadata": {},
   "outputs": [
    {
     "data": {
      "image/png": "[encoded data removed]",
      "text/plain": [
       "<Figure size 1200x800 with 1 Axes>"
      ]
     },
     "metadata": {},
     "output_type": "display_data"
    }
   ],
   "source": [
    "plt.figure(figsize=(12, 8))\n",
    "sns.countplot(x='Primary Type', data=df)\n",
    "\n",
    "# Customize the plot\n",
    "plt.title('Number of Crimes by Crime Type')\n",
    "plt.xlabel('Crime Type')\n",
    "plt.ylabel('Count')\n",
    "plt.xticks(rotation=90);"
   ]
  }
 ],
 "metadata": {
  "kernelspec": {
   "display_name": "Python 3 (ipykernel)",
   "language": "python",
   "name": "python3"
  },
  "language_info": {
   "codemirror_mode": {
    "name": "ipython",
    "version": 3
   },
   "file_extension": ".py",
   "mimetype": "text/x-python",
   "name": "python",
   "nbconvert_exporter": "python",
   "pygments_lexer": "ipython3",
   "version": "3.12.7"
  }
 },
 "nbformat": 4,
 "nbformat_minor": 5
}
